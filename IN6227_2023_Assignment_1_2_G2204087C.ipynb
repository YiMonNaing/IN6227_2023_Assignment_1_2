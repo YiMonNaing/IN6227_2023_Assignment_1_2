{
  "nbformat": 4,
  "nbformat_minor": 0,
  "metadata": {
    "colab": {
      "provenance": []
    },
    "kernelspec": {
      "name": "python3",
      "display_name": "Python 3"
    },
    "language_info": {
      "name": "python"
    }
  },
  "cells": [
    {
      "cell_type": "markdown",
      "source": [
        "1. Import libraries: Start by importing the necessary libraries including pandas, numpy, matplotlib, seaborn, scikit-learn and time."
      ],
      "metadata": {
        "id": "x2MCg9Zl_Pdr"
      }
    },
    {
      "cell_type": "code",
      "execution_count": 1,
      "metadata": {
        "id": "6IUOtTV2_ClL"
      },
      "outputs": [],
      "source": [
        "# Import necessary libraries\n",
        "import pandas as pd\n",
        "import numpy as np\n",
        "from sklearn.model_selection import train_test_split\n",
        "from sklearn.tree import DecisionTreeClassifier\n",
        "from sklearn.naive_bayes import GaussianNB\n",
        "from sklearn.metrics import accuracy_score, precision_score, recall_score, f1_score, roc_curve, auc\n",
        "from sklearn.impute import SimpleImputer\n",
        "from sklearn.preprocessing import LabelEncoder\n",
        "from sklearn.model_selection import GridSearchCV\n",
        "import time\n"
      ]
    },
    {
      "cell_type": "markdown",
      "source": [
        "2. Load the dataset: I load the Census Income dataset and preview it. Pre-processing the dataset: The dataset contains missing values represented by '?'. I replace them with NaN and drop them. Label Encoding: I convert the categorical variables to numerical values using label encoding."
      ],
      "metadata": {
        "id": "0WurkjJB_ytk"
      }
    },
    {
      "cell_type": "code",
      "source": [
        "#Load the dataset\n",
        "columns = ['age', 'workclass', 'fnlwgt', 'education', 'education-num', 'marital-status', 'occupation', 'relationship', 'race', 'sex', 'capital-gain', 'capital-loss', 'hours-per-week', 'native-country', 'income']\n",
        "data = pd.read_csv('https://archive.ics.uci.edu/ml/machine-learning-databases/adult/adult.data', header=None, names=columns)\n",
        "print(data.head())\n",
        "#Pre-processing the dataset\n",
        "data = data.replace('?', np.nan)\n",
        "data = data.dropna()\n",
        "#Label Encoding\n",
        "target = LabelEncoder().fit_transform(data['income'])\n",
        "features = pd.get_dummies(data.drop(['income'], axis=1))"
      ],
      "metadata": {
        "colab": {
          "base_uri": "https://localhost:8080/"
        },
        "id": "O-8HvuUj_x4L",
        "outputId": "2d76d4fe-a4a8-4e2a-b5bc-46d4ae9cc606"
      },
      "execution_count": 2,
      "outputs": [
        {
          "output_type": "stream",
          "name": "stdout",
          "text": [
            "   age          workclass  fnlwgt   education  education-num  \\\n",
            "0   39          State-gov   77516   Bachelors             13   \n",
            "1   50   Self-emp-not-inc   83311   Bachelors             13   \n",
            "2   38            Private  215646     HS-grad              9   \n",
            "3   53            Private  234721        11th              7   \n",
            "4   28            Private  338409   Bachelors             13   \n",
            "\n",
            "        marital-status          occupation    relationship    race      sex  \\\n",
            "0        Never-married        Adm-clerical   Not-in-family   White     Male   \n",
            "1   Married-civ-spouse     Exec-managerial         Husband   White     Male   \n",
            "2             Divorced   Handlers-cleaners   Not-in-family   White     Male   \n",
            "3   Married-civ-spouse   Handlers-cleaners         Husband   Black     Male   \n",
            "4   Married-civ-spouse      Prof-specialty            Wife   Black   Female   \n",
            "\n",
            "   capital-gain  capital-loss  hours-per-week  native-country  income  \n",
            "0          2174             0              40   United-States   <=50K  \n",
            "1             0             0              13   United-States   <=50K  \n",
            "2             0             0              40   United-States   <=50K  \n",
            "3             0             0              40   United-States   <=50K  \n",
            "4             0             0              40            Cuba   <=50K  \n"
          ]
        }
      ]
    },
    {
      "cell_type": "markdown",
      "source": [
        "3. Splitting the dataset: I split the dataset into training and testing sets with a 70:30 ratio."
      ],
      "metadata": {
        "id": "neZadyKzAVGz"
      }
    },
    {
      "cell_type": "code",
      "source": [
        "#Splitting the dataset\n",
        "from sklearn.model_selection import train_test_split\n",
        "X_train, X_test, y_train, y_test = train_test_split(features, target, test_size=0.3, stratify=target)"
      ],
      "metadata": {
        "id": "rgfemp9fAaUq"
      },
      "execution_count": 3,
      "outputs": []
    },
    {
      "cell_type": "markdown",
      "source": [
        "4. Decision Tree Classifier: I train a Decision Tree classifier on the training set and fine-tune the hyperparameters using GridSearchCV. I calculate time taken for train and apply model."
      ],
      "metadata": {
        "id": "7xRHkCchAgw6"
      }
    },
    {
      "cell_type": "code",
      "source": [
        "from sklearn.tree import DecisionTreeClassifier\n",
        "from sklearn.naive_bayes import GaussianNB\n",
        "from sklearn.model_selection import GridSearchCV\n",
        "\n",
        "#Train a Decision Tree model and fine-tune hyper-parameters\n",
        "start_time = time.time()\n",
        "dt_params = {'criterion': ['gini', 'entropy'], 'max_depth': [2, 4, 6, 8, 10], 'min_samples_leaf': [1, 2, 3, 4, 5]}\n",
        "dt = DecisionTreeClassifier()\n",
        "dt_cv = GridSearchCV(dt, dt_params, cv=5)\n",
        "dt_cv.fit(X_train, y_train)\n",
        "train_time_dt = time.time() - start_time\n",
        "print(\"Hyperparameters that resulted in the best performance for the Decision Tree model:\")\n",
        "print(dt_cv.best_params_)\n",
        "# Apply the Decision Tree model and time it\n",
        "start_time = time.time()\n",
        "y_pred_dt = dt_cv.predict(X_test)\n",
        "proba_dt = dt_cv.predict_proba(X_test)[:, 1]\n",
        "test_time_dt = time.time() - start_time"
      ],
      "metadata": {
        "colab": {
          "base_uri": "https://localhost:8080/"
        },
        "id": "ERX56G9iAi_B",
        "outputId": "3d363ca7-5c63-47c9-8bc2-981da6d057c5"
      },
      "execution_count": 4,
      "outputs": [
        {
          "output_type": "stream",
          "name": "stdout",
          "text": [
            "Hyperparameters that resulted in the best performance for the Decision Tree model:\n",
            "{'criterion': 'entropy', 'max_depth': 8, 'min_samples_leaf': 5}\n"
          ]
        }
      ]
    },
    {
      "cell_type": "markdown",
      "source": [
        "5.Naive Bayes Classifier: I train a Naive Bayes classifier on the training set and calculate time taken for train and apply model."
      ],
      "metadata": {
        "id": "0zzC2bvvBOMD"
      }
    },
    {
      "cell_type": "code",
      "source": [
        "#Train a Naive Bayes model and time it\n",
        "start_time = time.time()\n",
        "nb = GaussianNB()\n",
        "nb.fit(X_train, y_train)\n",
        "\n",
        "train_time_nb = time.time() - start_time\n",
        "\n",
        "# Apply the Naive Bayes model and time it\n",
        "start_time = time.time()\n",
        "y_pred_nb = nb.predict(X_test)\n",
        "proba_nb = nb.predict_proba(X_test)[:, 1]\n",
        "test_time_nb = time.time() - start_time"
      ],
      "metadata": {
        "id": "gV64JkN2B2XE"
      },
      "execution_count": 5,
      "outputs": []
    },
    {
      "cell_type": "code",
      "source": [
        "# Print the time taken to train and apply the models\n",
        "print('Decision Tree:')\n",
        "print(f'Time taken to train: {train_time_dt:.3f} seconds')\n",
        "print(f'Time taken to apply: {test_time_dt:.3f} seconds\\n')\n",
        "\n",
        "print('Naive Bayes:')\n",
        "print(f'Time taken to train: {train_time_nb:.3f} seconds')\n",
        "print(f'Time taken to apply: {test_time_nb:.3f} seconds\\n')"
      ],
      "metadata": {
        "colab": {
          "base_uri": "https://localhost:8080/"
        },
        "id": "dgMLD7_zB81y",
        "outputId": "229ad55f-c8b8-4fcf-a867-4f99536ffc2d"
      },
      "execution_count": 6,
      "outputs": [
        {
          "output_type": "stream",
          "name": "stdout",
          "text": [
            "Decision Tree:\n",
            "Time taken to train: 34.844 seconds\n",
            "Time taken to apply: 0.018 seconds\n",
            "\n",
            "Naive Bayes:\n",
            "Time taken to train: 0.344 seconds\n",
            "Time taken to apply: 0.244 seconds\n",
            "\n"
          ]
        }
      ]
    },
    {
      "cell_type": "markdown",
      "source": [
        "6. Evaluating the Models on Test Data Now that I have trained and fine-tuned both the Decision Tree and Naive Bayes models, it's time to evaluate their performance on the test data. I will calculate accuracy, precision, recall, F1-score."
      ],
      "metadata": {
        "id": "bFHKQx4vCArq"
      }
    },
    {
      "cell_type": "code",
      "source": [
        "#Model Evaluation\n",
        "from sklearn.metrics import accuracy_score, precision_score, recall_score, f1_score, roc_curve, roc_auc_score\n",
        "import matplotlib.pyplot as plt\n",
        "#Evaluate the Decision Tree model\n",
        "y_pred_dt = dt_cv.predict(X_test)\n",
        "accuracy_dt = accuracy_score(y_test, y_pred_dt)\n",
        "precision_dt = precision_score(y_test, y_pred_dt)\n",
        "recall_dt = recall_score(y_test, y_pred_dt)\n",
        "f1_dt = f1_score(y_test, y_pred_dt)\n",
        "proba_dt = dt_cv.predict_proba(X_test)[:, 1]\n",
        "fpr_dt, tpr_dt, _ = roc_curve(y_test, proba_dt)\n",
        "auc_dt = roc_auc_score(y_test, proba_dt)\n",
        "\n",
        "#Evaluate the Naive Bayes model\n",
        "y_pred_nb = nb.predict(X_test)\n",
        "accuracy_nb = accuracy_score(y_test, y_pred_nb)\n",
        "precision_nb = precision_score(y_test, y_pred_nb)\n",
        "recall_nb = recall_score(y_test, y_pred_nb)\n",
        "f1_nb = f1_score(y_test, y_pred_nb)\n",
        "proba_nb = nb.predict_proba(X_test)[:, 1]\n",
        "fpr_nb, tpr_nb, _ = roc_curve(y_test, proba_nb)\n",
        "auc_nb = roc_auc_score(y_test, proba_nb)"
      ],
      "metadata": {
        "id": "01WWINu4CEuF"
      },
      "execution_count": 7,
      "outputs": []
    },
    {
      "cell_type": "code",
      "source": [
        "# Print the evaluation metrics\n",
        "print('Decision Tree:')\n",
        "print(f'Accuracy = {accuracy_dt:.3f}')\n",
        "print(f'Precision = {precision_dt:.3f}')\n",
        "print(f'Recall = {recall_dt:.3f}')\n",
        "print(f'F1 Score = {f1_dt:.3f}')\n",
        "print()\n",
        "# Print the evaluation metrics\n",
        "print('Naive Bay Classifier:')\n",
        "print(f'Accuracy = {accuracy_nb:.3f}')\n",
        "print(f'Precision = {precision_nb:.3f}')\n",
        "print(f'Recall = {recall_nb:.3f}')\n",
        "print(f'F1 Score = {f1_nb:.3f}')\n",
        "print()"
      ],
      "metadata": {
        "colab": {
          "base_uri": "https://localhost:8080/"
        },
        "id": "mjrKmTWECODK",
        "outputId": "31c7a6b6-3258-414d-f01e-cf13fc64495a"
      },
      "execution_count": 8,
      "outputs": [
        {
          "output_type": "stream",
          "name": "stdout",
          "text": [
            "Decision Tree:\n",
            "Accuracy = 0.851\n",
            "Precision = 0.827\n",
            "Recall = 0.480\n",
            "F1 Score = 0.608\n",
            "\n",
            "Naive Bay Classifier:\n",
            "Accuracy = 0.793\n",
            "Precision = 0.644\n",
            "Recall = 0.309\n",
            "F1 Score = 0.417\n",
            "\n"
          ]
        }
      ]
    },
    {
      "cell_type": "code",
      "source": [
        "# Plot the ROC curves\n",
        "plt.plot(fpr_dt, tpr_dt, label=f'Decision Tree (AUC={auc_dt:.3f})')\n",
        "plt.plot(fpr_nb, tpr_nb, label=f'Naive Bayes (AUC={auc_nb:.3f})')\n",
        "plt.plot([0, 1], [0, 1], 'k--')\n",
        "plt.xlabel('False Positive Rate')\n",
        "plt.ylabel('True Positive Rate')\n",
        "plt.legend()\n"
      ],
      "metadata": {
        "colab": {
          "base_uri": "https://localhost:8080/",
          "height": 296
        },
        "id": "2kmWj9i5Df0z",
        "outputId": "d1560a63-557b-45db-8396-8653055c511e"
      },
      "execution_count": 9,
      "outputs": [
        {
          "output_type": "execute_result",
          "data": {
            "text/plain": [
              "<matplotlib.legend.Legend at 0x7fee07fcd460>"
            ]
          },
          "metadata": {},
          "execution_count": 9
        },
        {
          "output_type": "display_data",
          "data": {
            "text/plain": [
              "<Figure size 432x288 with 1 Axes>"
            ],
            "image/png": "[encoded data removed]"
          },
          "metadata": {
            "needs_background": "light"
          }
        }
      ]
    },
    {
      "cell_type": "markdown",
      "source": [
        "From the above ROC curve comparison, we can see that the Decision Tree model performs better than the Naive Bayes model. The Decision Tree model has a higher AUC score and its ROC curve is closer to the top-left corner of the plot, indicating better performance. The Naive Bayes model has a lower AUC score and its ROC curve is closer to the diagonal line, indicating poorer performance.\n",
        "\n"
      ],
      "metadata": {
        "id": "2qiVbh7pDubD"
      }
    }
  ]
}